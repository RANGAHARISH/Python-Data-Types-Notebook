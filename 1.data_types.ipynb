{
 "cells": [
  {
   "cell_type": "raw",
   "id": "d5b2ade4-135b-4ca3-87ed-52fd0edfe614",
   "metadata": {},
   "source": [
    "#Data Types \n",
    "\n",
    "##Numerical Data Type\n",
    "###int(numbers)\n",
    "###float(Decimal values)\n",
    "\n",
    "\n",
    "##Text Data Type\n",
    "###str(text)\n",
    "\n",
    "##Boolean Data Type\n",
    "###bool(true/false)\n",
    "\n",
    "##Sequencial Data Type\n",
    "###list [list of elements,value can be changed(immutable)]\n",
    "###tuple [same as list ,values can not be changed(mutable)]\n",
    "###range [2:5,values from 2 to 4 will print]\n",
    "\n",
    "##Mapping Data Type\n",
    "###dict[Name;name,each value has its key]\n",
    "\n",
    "##Set Data Type\n",
    "###set [same like list but returns only unique values]\n",
    "\n",
    "##Byte Data Type\n",
    "###byte(store byte values,can not be changed(immutable) )\n",
    "###bytearray (same as byte can be changed(mutable) )\n",
    "\n",
    "##None Data Type\n",
    "###None(n must be capital)\n"
   ]
  },
  {
   "cell_type": "code",
   "execution_count": 29,
   "id": "0e753db8-c7e9-4be1-bf78-dd8ed1c2635d",
   "metadata": {},
   "outputs": [
    {
     "name": "stdin",
     "output_type": "stream",
     "text": [
      "enter age: 2\n"
     ]
    },
    {
     "name": "stdout",
     "output_type": "stream",
     "text": [
      "Age: 2\n",
      "Type: <class 'int'>\n"
     ]
    }
   ],
   "source": [
    "# Numerical Data Type\n",
    "###int(numbers)\n",
    "age=int(input(\"enter age(numbers):\"))\n",
    "print(\"Age:\",age)\n",
    "print(\"Type:\",type(age))"
   ]
  },
  {
   "cell_type": "code",
   "execution_count": 31,
   "id": "04868538-8b44-4f52-a550-2383c8603c6a",
   "metadata": {},
   "outputs": [
    {
     "name": "stdin",
     "output_type": "stream",
     "text": [
      "enter marks: 2.4\n"
     ]
    },
    {
     "name": "stdout",
     "output_type": "stream",
     "text": [
      "Marks: 2.4\n",
      "Type: <class 'float'>\n"
     ]
    }
   ],
   "source": [
    "#float(Decimal values)\n",
    "marks=float(input(\"enter marks(decimals):\"))\n",
    "print(\"Marks:\",marks)\n",
    "print(\"Type:\",type(marks))"
   ]
  },
  {
   "cell_type": "code",
   "execution_count": 36,
   "id": "42f20c01-484a-4ed7-a8f1-7d14a1d3ee51",
   "metadata": {},
   "outputs": [
    {
     "name": "stdin",
     "output_type": "stream",
     "text": [
      "enter name: hari\n"
     ]
    },
    {
     "name": "stdout",
     "output_type": "stream",
     "text": [
      "Name: hari\n",
      "type: <class 'str'>\n"
     ]
    }
   ],
   "source": [
    "#Text Data Type\n",
    "name=input(\"enter name:\")\n",
    "print(\"Name:\",name)\n",
    "print(\"type:\",type(name))"
   ]
  },
  {
   "cell_type": "code",
   "execution_count": 50,
   "id": "bb1da75f-12e1-43b5-aac5-c5085378df43",
   "metadata": {},
   "outputs": [
    {
     "name": "stdin",
     "output_type": "stream",
     "text": [
      "do you like python(yes/no): NO\n"
     ]
    },
    {
     "name": "stdout",
     "output_type": "stream",
     "text": [
      "value: False\n",
      "type: <class 'bool'>\n"
     ]
    }
   ],
   "source": [
    "#boolean Data type\n",
    "\"\"\"bool_input = input(\"\\nDo you like Python? (yes/no): \")#.strip().lower()\n",
    "likes_python = bool_input == \"yes\"\n",
    "print(\"Value:\", likes_python)\n",
    "print(\"Type:\", type(likes_python))\"\"\"\n",
    "\n",
    "#here in the above example we used .strip(),this will remove spaces(from\" yes \"to\"yes\")\n",
    "#here in the above example we used .lower(),this will convert capital(upper case) input into (lower case) small(from YES to yes)\n",
    " \n",
    "boolean=input(\"do you like python(yes/no):\").strip().lower()\n",
    "like_python=boolean==\"yes\"\n",
    "print(\"value:\",like_python)\n",
    "print(\"type:\",type(like_python))"
   ]
  },
  {
   "cell_type": "code",
   "execution_count": 54,
   "id": "bd795dda-cbb7-4bad-aaeb-1d3493640935",
   "metadata": {},
   "outputs": [
    {
     "name": "stdin",
     "output_type": "stream",
     "text": [
      "enter hobbies(seperated by comma): a,a,a,a,a\n"
     ]
    },
    {
     "name": "stdout",
     "output_type": "stream",
     "text": [
      "Hobbies: ['a', 'a', 'a', 'a', 'a']\n",
      "type: <class 'list'>\n"
     ]
    },
    {
     "name": "stdin",
     "output_type": "stream",
     "text": [
      "enter hibbies(seperated by comma) a,a,a,a,a\n"
     ]
    },
    {
     "name": "stdout",
     "output_type": "stream",
     "text": [
      "hobbies: ['harish', 'a', 'a', 'a', 'a']\n",
      "type: <class 'list'>\n"
     ]
    }
   ],
   "source": [
    "#sequencial Data Type\n",
    "##list (mutable)\n",
    "hobbies=input(\"enter hobbies(seperated by comma):\").split(\",\")\n",
    "print(\"Hobbies:\",hobbies)\n",
    "print(\"type:\",type(hobbies))\n",
    "\n",
    "#or \n",
    "## we can also add .split() in the variable place.\n",
    "\n",
    "hobbies=input(\"enter hibbies(seperated by comma)\")\n",
    "my_hobbies=hobbies.split(\",\")\n",
    "my_hobbies[0]=\"harish\"\n",
    "print(\"hobbies:\",my_hobbies)\n",
    "print(\"type:\",type(my_hobbies))\n"
   ]
  },
  {
   "cell_type": "code",
   "execution_count": 56,
   "id": "5ce4fbe9-d207-4b79-a39e-865e9e38a24c",
   "metadata": {},
   "outputs": [
    {
     "name": "stdin",
     "output_type": "stream",
     "text": [
      "enter hibbies(seperated by comma) a,a,a,a,a\n"
     ]
    },
    {
     "ename": "TypeError",
     "evalue": "'tuple' object does not support item assignment",
     "output_type": "error",
     "traceback": [
      "\u001b[1;31m---------------------------------------------------------------------------\u001b[0m",
      "\u001b[1;31mTypeError\u001b[0m                                 Traceback (most recent call last)",
      "Cell \u001b[1;32mIn[56], line 4\u001b[0m\n\u001b[0;32m      2\u001b[0m hobbies\u001b[38;5;241m=\u001b[39m\u001b[38;5;28mtuple\u001b[39m(\u001b[38;5;28minput\u001b[39m(\u001b[38;5;124m\"\u001b[39m\u001b[38;5;124menter hibbies(seperated by comma)\u001b[39m\u001b[38;5;124m\"\u001b[39m))\n\u001b[0;32m      3\u001b[0m my_hobbies\u001b[38;5;241m=\u001b[39mhobbies\u001b[38;5;66;03m#.split(\",\")\u001b[39;00m\n\u001b[1;32m----> 4\u001b[0m my_hobbies[\u001b[38;5;241m0\u001b[39m]\u001b[38;5;241m=\u001b[39m\u001b[38;5;124m\"\u001b[39m\u001b[38;5;124mharish\u001b[39m\u001b[38;5;124m\"\u001b[39m\n\u001b[0;32m      5\u001b[0m \u001b[38;5;28mprint\u001b[39m(\u001b[38;5;124m\"\u001b[39m\u001b[38;5;124mhobbies:\u001b[39m\u001b[38;5;124m\"\u001b[39m,my_hobbies)\n\u001b[0;32m      6\u001b[0m \u001b[38;5;28mprint\u001b[39m(\u001b[38;5;124m\"\u001b[39m\u001b[38;5;124mtype:\u001b[39m\u001b[38;5;124m\"\u001b[39m,\u001b[38;5;28mtype\u001b[39m(my_hobbies))\n",
      "\u001b[1;31mTypeError\u001b[0m: 'tuple' object does not support item assignment"
     ]
    }
   ],
   "source": [
    "#tuple (immutable)\n",
    "hobbies=tuple(input(\"enter hibbies(seperated by comma)\"))\n",
    "my_hobbies=hobbies#.split(\",\")\n",
    "my_hobbies[0]=\"harish\" #here it gives error because it won't support value assignment\n",
    "print(\"hobbies:\",my_hobbies)\n",
    "print(\"type:\",type(my_hobbies))"
   ]
  },
  {
   "cell_type": "code",
   "execution_count": 5,
   "id": "9c2fe715-1c70-4068-a96e-d9189d68f882",
   "metadata": {},
   "outputs": [
    {
     "name": "stdin",
     "output_type": "stream",
     "text": [
      "enter hobbies harish\n"
     ]
    },
    {
     "name": "stdout",
     "output_type": "stream",
     "text": [
      "hobbies: ('h', 'a', 'r', 'i', 's', 'h')\n",
      "type: <class 'tuple'>\n"
     ]
    }
   ],
   "source": [
    "#tuple (immutable) \n",
    "##here no need to use \".split()\" it will automaticaly seperate the values\n",
    "###here the element splits every thing even (harish into h,a,r,i,s,h)\n",
    "hobbies=tuple(input(\"enter hobbies\"))\n",
    "my_hobbies=hobbies\n",
    "print(\"hobbies:\",hobbies)\n",
    "print(\"type:\",type(hobbies))"
   ]
  },
  {
   "cell_type": "code",
   "execution_count": 69,
   "id": "eee2596c-4a12-4346-be6d-92bf48bf686f",
   "metadata": {},
   "outputs": [
    {
     "name": "stdin",
     "output_type": "stream",
     "text": [
      "enter key values: Name\n",
      "enter values: Harish\n"
     ]
    },
    {
     "name": "stdout",
     "output_type": "stream",
     "text": [
      "values: {'Name': 'Harish'}\n",
      "type: <class 'dict'>\n"
     ]
    }
   ],
   "source": [
    "#Mapping Data Type\n",
    "##dict \n",
    "\n",
    "key=input(\"enter key values:\")\n",
    "value=input(\"enter values:\")\n",
    "dictionary={key:value}\n",
    "print(\"values:\",dictionary)\n",
    "print(\"type:\",type(dictionary))\n",
    "\n"
   ]
  },
  {
   "cell_type": "code",
   "execution_count": 82,
   "id": "ed6ec090-53ab-4ecb-8db6-ec6e892c4ab6",
   "metadata": {},
   "outputs": [
    {
     "name": "stdin",
     "output_type": "stream",
     "text": [
      "How many key-value pairs do you want to enter?  3\n",
      "Enter key 1:  A\n",
      "Enter value for 'A':  a\n",
      "Enter key 2:  B\n",
      "Enter value for 'B':  b\n",
      "Enter key 3:  C\n",
      "Enter value for 'C':  c\n"
     ]
    },
    {
     "name": "stdout",
     "output_type": "stream",
     "text": [
      "Values: {'A': 'a', 'B': 'b', 'C': 'c'}\n",
      "Type: <class 'dict'>\n"
     ]
    },
    {
     "data": {
      "text/plain": [
       "'dictionary={}\\nn=int(input(\"enter number of dict pairs you want to create:\"))\\nfor i in range(n):\\n    key=input(f\"enter key{i+1}:\")\\n    value=input(f\"enter value for \\'{key}\\':\")\\n    dictionary[key]=value\\n\\nprint(\"key:\",dictionary)\\nprint(\"value:\",type(dictionary))'"
      ]
     },
     "execution_count": 82,
     "metadata": {},
     "output_type": "execute_result"
    }
   ],
   "source": [
    "#for multiple dictionaries\n",
    "##here we have used f-string  because it allows us to insert value in it by {}\n",
    "dictionary = {}  # Create an empty dictionary\n",
    "\n",
    "n = int(input(\"How many key-value pairs do you want to enter? \"))\n",
    "\n",
    "for i in range(n):\n",
    "    key = input(f\"Enter key {i+1}: \")\n",
    "    #key=(\"enter key value\")\n",
    "    value = input(f\"Enter value for '{key}': \")\n",
    "    #value=(\"enter value\")\n",
    "    dictionary[key] = value\n",
    "\n",
    "print(\"Values:\", dictionary)\n",
    "print(\"Type:\", type(dictionary))\n",
    "\n",
    "#practice\n",
    "\"\"\"dictionary={}\n",
    "n=int(input(\"enter number of dict pairs you want to create:\"))\n",
    "for i in range(n):\n",
    "    key=input(f\"enter key{i+1}:\")\n",
    "    value=input(f\"enter value for '{key}':\")\n",
    "    dictionary[key]=value\n",
    "\n",
    "print(\"key:\",dictionary)\n",
    "print(\"value:\",type(dictionary))\"\"\""
   ]
  },
  {
   "cell_type": "code",
   "execution_count": 89,
   "id": "efdd33d7-7ffe-4b68-921c-918915dd2dd8",
   "metadata": {},
   "outputs": [
    {
     "name": "stdin",
     "output_type": "stream",
     "text": [
      "enter names by seperating with commas a,a,a,a,asa,s,s,s,s\n"
     ]
    },
    {
     "name": "stdout",
     "output_type": "stream",
     "text": [
      "values: {'a', 'asa', 's'}\n",
      "type: <class 'set'>\n"
     ]
    },
    {
     "name": "stdin",
     "output_type": "stream",
     "text": [
      "enter names by seperating with commas a,a,a,s,d,a,s,s\n"
     ]
    },
    {
     "name": "stdout",
     "output_type": "stream",
     "text": [
      "values: {'a', 's', 'd'}\n",
      "type: <class 'set'>\n"
     ]
    }
   ],
   "source": [
    "#set Data Type\n",
    "##set \n",
    "names=input(\"enter names by seperating with commas\")\n",
    "my_name=set(names.split(\",\"))\n",
    "print(\"values:\",my_name)\n",
    "print(\"type:\",type(my_name))\n",
    "\n",
    "#or we can write without taking another variable\n",
    "\n",
    "names=set(input(\"enter names by seperating with commas\").split(\",\"))\n",
    "\n",
    "print(\"values:\",names)\n",
    "print(\"type:\",type(names))"
   ]
  },
  {
   "cell_type": "code",
   "execution_count": 1,
   "id": "4d50d2d6-2855-4db2-b7f9-c876e1689210",
   "metadata": {},
   "outputs": [
    {
     "name": "stdout",
     "output_type": "stream",
     "text": [
      "C:\\Users\\user\n"
     ]
    }
   ],
   "source": [
    "import os\n",
    "print(os.getcwd())  # Shows the folder where files are saved"
   ]
  }
 ],
 "metadata": {
  "kernelspec": {
   "display_name": "Python 3 (ipykernel)",
   "language": "python",
   "name": "python3"
  },
  "language_info": {
   "codemirror_mode": {
    "name": "ipython",
    "version": 3
   },
   "file_extension": ".py",
   "mimetype": "text/x-python",
   "name": "python",
   "nbconvert_exporter": "python",
   "pygments_lexer": "ipython3",
   "version": "3.12.7"
  }
 },
 "nbformat": 4,
 "nbformat_minor": 5
}
